{
 "cells": [
  {
   "cell_type": "markdown",
   "metadata": {},
   "source": [
    "**Neural Networks**"
   ]
  },
  {
   "cell_type": "markdown",
   "metadata": {},
   "source": [
    "In this we will be building the neural network.Neural network contains nodes,layers.The fundamental building block of most modern neural networks is a layer of neurons."
   ]
  },
  {
   "cell_type": "markdown",
   "metadata": {},
   "source": [
    "<img src=\"ann.jpeg\" alt=\"drawing\" width=\"500\"/>"
   ]
  },
  {
   "cell_type": "markdown",
   "metadata": {},
   "source": [
    "We have input layer also called as layer 0.<br/>\n",
    "Then we will have one or more hidden layers between input layer and ouput layer.<br>\n",
    "Each node, or artificial neuron, is connected to others and has a weight and threshold that go along with it.\n",
    "<br>Any node whose output exceeds the defined threshold value is activated and begins providing data to the network's uppermost layer.<br> Otherwise, no data is transmitted to the network's next layer."
   ]
  },
  {
   "cell_type": "code",
   "execution_count": null,
   "metadata": {},
   "outputs": [],
   "source": [
    "inputs=2\n",
    "h_nodes=5\n",
    "nhl=1\n",
    "no=1"
   ]
  },
  {
   "cell_type": "markdown",
   "metadata": {},
   "source": [
    "We will be approaching in to ways scalar and vector method."
   ]
  },
  {
   "cell_type": "markdown",
   "metadata": {},
   "source": [
    "Lets start with scalar method."
   ]
  },
  {
   "cell_type": "markdown",
   "metadata": {},
   "source": [
    "<img src='layer.png' width=500/>"
   ]
  },
  {
   "cell_type": "markdown",
   "metadata": {},
   "source": [
    "We are using dense layer ie every node in layer is connected to every node in another layer. "
   ]
  },
  {
   "cell_type": "code",
   "execution_count": 1,
   "metadata": {},
   "outputs": [],
   "source": [
    "import numpy as np\n",
    "weights = np.around(np.random.uniform(size=15), decimals=2) # initialize the weights for each edge\n",
    "biases = np.around(np.random.uniform(size=6), decimals=2) # initialize the biases for each node"
   ]
  },
  {
   "cell_type": "markdown",
   "metadata": {},
   "source": [
    "initialze input then"
   ]
  },
  {
   "cell_type": "code",
   "execution_count": 2,
   "metadata": {},
   "outputs": [],
   "source": [
    "x1=0.86\n",
    "x2=0.5"
   ]
  },
  {
   "cell_type": "markdown",
   "metadata": {},
   "source": [
    "So what happens in each node is:<br>\n",
    "z = weight * input(x)  +  bias for single input<br>\n",
    "For two input:<br>\n",
    "z = weight1 * input1 + weight2 * input2 + biases<br>\n",
    "For n input:<br>\n",
    "z= weight1 * input1  +  weight2 * input2 ........weightn * inputn + biases<br>"
   ]
  },
  {
   "cell_type": "code",
   "execution_count": 3,
   "metadata": {},
   "outputs": [],
   "source": [
    "z_1=x1*weights[0]+x2*weights[5]+biases[0]\n",
    "z_2=x1*weights[1]+x2*weights[6]+biases[1]\n",
    "z_3=x1*weights[2]+x2*weights[7]+biases[2]\n",
    "z_4=x1*weights[3]+x2*weights[8]+biases[3]\n",
    "z_5=x1*weights[4]+x2*weights[9]+biases[4]"
   ]
  },
  {
   "cell_type": "markdown",
   "metadata": {},
   "source": [
    "simply put for each node we calculate like above"
   ]
  },
  {
   "cell_type": "code",
   "execution_count": 4,
   "metadata": {},
   "outputs": [],
   "source": [
    "def sigmoid(z):\n",
    "    return 1/(1+np.exp(-z))"
   ]
  },
  {
   "cell_type": "code",
   "execution_count": null,
   "metadata": {},
   "outputs": [],
   "source": [
    "a_1=sigmoid(z_1)\n",
    "a_2=sigmoid(z_2)\n",
    "a_3=sigmoid(z_3)\n",
    "a_4=sigmoid(z_4)\n",
    "a_5=sigmoid(z_5)"
   ]
  },
  {
   "cell_type": "markdown",
   "metadata": {},
   "source": [
    "Now these will be the inputs to the next layer.<br>\n",
    "Our next layer is output layer.<br>"
   ]
  },
  {
   "cell_type": "code",
   "execution_count": null,
   "metadata": {},
   "outputs": [],
   "source": [
    "z_o=a_1*weights[10]+a_2*weights[11]+a_3*weights[12]+a_4*weights[13]+a_5*weights[14]\n",
    "output=sigmoid(z_o)"
   ]
  },
  {
   "cell_type": "markdown",
   "metadata": {},
   "source": [
    "This is how we get output.<br>\n",
    "This is how traditional computer would have done calculation but not todays modern computers.<br>\n",
    "Nowadays parallel computing is performed that is all instead of doing all those calucaltion one by one we perform at once.<br>\n",
    "And that is how we get into vectorization.<br>"
   ]
  },
  {
   "cell_type": "code",
   "execution_count": 19,
   "metadata": {},
   "outputs": [],
   "source": [
    "import numpy as np"
   ]
  },
  {
   "cell_type": "code",
   "execution_count": 28,
   "metadata": {},
   "outputs": [],
   "source": [
    "def helper(layers,nodes):\n",
    "    w=[]\n",
    "    b=[]\n",
    "    for i in range(layers-1):\n",
    "        w.append(np.around(np.random.uniform(size=(nodes[i],nodes[i+1])), decimals=2))\n",
    "        b.append(np.around(np.random.uniform(size=(nodes[i+1],1)), decimals=2))\n",
    "    return w,b"
   ]
  },
  {
   "cell_type": "code",
   "execution_count": 29,
   "metadata": {},
   "outputs": [],
   "source": [
    "n_input=2 #no. of input \n",
    "layers=3 #layer0(input) , layer1(hidden), layer3(output)\n",
    "nodes=[2,5,1] #2 input nodes, 5 nodes in hidden layer , singel node in output layer\n",
    "w,b=helper(layers,nodes)"
   ]
  },
  {
   "cell_type": "code",
   "execution_count": 31,
   "metadata": {},
   "outputs": [
    {
     "name": "stdout",
     "output_type": "stream",
     "text": [
      "[array([[0.3 , 0.99, 0.28, 0.41, 0.4 ],\n",
      "       [0.97, 0.43, 0.57, 0.57, 0.26]]), array([[0.15],\n",
      "       [0.94],\n",
      "       [0.24],\n",
      "       [0.52],\n",
      "       [0.22]])]\n",
      "[array([[0.54],\n",
      "       [0.6 ],\n",
      "       [0.19],\n",
      "       [0.57],\n",
      "       [0.08]]), array([[0.4]])]\n"
     ]
    }
   ],
   "source": [
    "print(w)\n",
    "print(b)"
   ]
  },
  {
   "cell_type": "code",
   "execution_count": null,
   "metadata": {},
   "outputs": [],
   "source": []
  }
 ],
 "metadata": {
  "kernelspec": {
   "display_name": "Python 3.9.3 ('env')",
   "language": "python",
   "name": "python3"
  },
  "language_info": {
   "codemirror_mode": {
    "name": "ipython",
    "version": 3
   },
   "file_extension": ".py",
   "mimetype": "text/x-python",
   "name": "python",
   "nbconvert_exporter": "python",
   "pygments_lexer": "ipython3",
   "version": "3.9.3"
  },
  "orig_nbformat": 4,
  "vscode": {
   "interpreter": {
    "hash": "4a2e7ee73770a2f69a36b3f34d1072af0d870facd48692644ab8cdd9c493d8bf"
   }
  }
 },
 "nbformat": 4,
 "nbformat_minor": 2
}
