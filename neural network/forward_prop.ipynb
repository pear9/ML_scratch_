{
 "cells": [
  {
   "cell_type": "markdown",
   "metadata": {},
   "source": [
    "**Neural Networks**"
   ]
  },
  {
   "cell_type": "markdown",
   "metadata": {},
   "source": [
    "In this we will be building the neural network.Neural network contains nodes,layers.The fundamental building block of most modern neural networks is a layer of neurons."
   ]
  },
  {
   "cell_type": "markdown",
   "metadata": {},
   "source": [
    "<img src=\"ann.jpeg\" alt=\"drawing\" width=\"500\"/>"
   ]
  },
  {
   "cell_type": "markdown",
   "metadata": {},
   "source": [
    "We have input layer also called as layer 0.<br/>\n",
    "Then we will have one or more hidden layers between input layer and ouput layer.<br>\n",
    "Each node, or artificial neuron, is connected to others and has a weight and threshold that go along with it.\n",
    "<br>Any node whose output exceeds the defined threshold value is activated and begins providing data to the network's uppermost layer.<br> Otherwise, no data is transmitted to the network's next layer."
   ]
  },
  {
   "cell_type": "code",
   "execution_count": null,
   "metadata": {},
   "outputs": [],
   "source": [
    "inputs=2\n",
    "h_nodes=5\n",
    "nhl=1\n",
    "no=1"
   ]
  },
  {
   "cell_type": "markdown",
   "metadata": {},
   "source": [
    "We will be approaching in to ways scalar and vector method."
   ]
  },
  {
   "cell_type": "markdown",
   "metadata": {},
   "source": [
    "Lets start with scalar method."
   ]
  },
  {
   "cell_type": "markdown",
   "metadata": {},
   "source": [
    "<img src='layer.png' width=500/>"
   ]
  },
  {
   "cell_type": "markdown",
   "metadata": {},
   "source": [
    "We are using dense layer ie every node in layer is connected to every node in another layer. "
   ]
  },
  {
   "cell_type": "code",
   "execution_count": 1,
   "metadata": {},
   "outputs": [],
   "source": [
    "import numpy as np\n",
    "weights = np.around(np.random.uniform(size=15), decimals=2) # initialize the weights for each edge\n",
    "biases = np.around(np.random.uniform(size=6), decimals=2) # initialize the biases for each node"
   ]
  },
  {
   "cell_type": "markdown",
   "metadata": {},
   "source": [
    "initialze input then"
   ]
  },
  {
   "cell_type": "code",
   "execution_count": 2,
   "metadata": {},
   "outputs": [],
   "source": [
    "x1=0.86\n",
    "x2=0.5"
   ]
  },
  {
   "cell_type": "markdown",
   "metadata": {},
   "source": [
    "So what happens in each node is:<br>\n",
    "z = weight * input(x)  +  bias for single input<br>\n",
    "For two input:<br>\n",
    "z = weight1 * input1 + weight2 * input2 + biases<br>\n",
    "For n input:<br>\n",
    "z= weight1 * input1  +  weight2 * input2 ........weightn * inputn + biases<br>"
   ]
  },
  {
   "cell_type": "code",
   "execution_count": 3,
   "metadata": {},
   "outputs": [],
   "source": [
    "z_1=x1*weights[0]+x2*weights[5]+biases[0]\n",
    "z_2=x1*weights[1]+x2*weights[6]+biases[1]\n",
    "z_3=x1*weights[2]+x2*weights[7]+biases[2]\n",
    "z_4=x1*weights[3]+x2*weights[8]+biases[3]\n",
    "z_5=x1*weights[4]+x2*weights[9]+biases[4]"
   ]
  },
  {
   "cell_type": "markdown",
   "metadata": {},
   "source": [
    "simply put for each node we calculate like above"
   ]
  },
  {
   "cell_type": "code",
   "execution_count": 35,
   "metadata": {},
   "outputs": [],
   "source": [
    "def sigmoid(z):\n",
    "    return 1/(1+np.exp(-z))"
   ]
  },
  {
   "cell_type": "code",
   "execution_count": null,
   "metadata": {},
   "outputs": [],
   "source": [
    "a_1=sigmoid(z_1)\n",
    "a_2=sigmoid(z_2)\n",
    "a_3=sigmoid(z_3)\n",
    "a_4=sigmoid(z_4)\n",
    "a_5=sigmoid(z_5)"
   ]
  },
  {
   "cell_type": "markdown",
   "metadata": {},
   "source": [
    "Now these will be the inputs to the next layer.<br>\n",
    "Our next layer is output layer.<br>"
   ]
  },
  {
   "cell_type": "code",
   "execution_count": null,
   "metadata": {},
   "outputs": [],
   "source": [
    "z_o=a_1*weights[10]+a_2*weights[11]+a_3*weights[12]+a_4*weights[13]+a_5*weights[14]\n",
    "output=sigmoid(z_o)"
   ]
  },
  {
   "cell_type": "markdown",
   "metadata": {},
   "source": [
    "This is how we get output.<br>\n",
    "This is how traditional computer would have done calculation but not todays modern computers.<br>\n",
    "Nowadays parallel computing is performed that is all instead of doing all those calucaltion one by one we perform at once.<br>\n",
    "And that is how we get into vectorization.<br>"
   ]
  },
  {
   "cell_type": "markdown",
   "metadata": {},
   "source": [
    "Now we will be using matrix.<br>Tensorflow,Pytorch,Keras all used matrix which enables to implement the parallel computing power of modern computers CPU."
   ]
  },
  {
   "cell_type": "code",
   "execution_count": 1,
   "metadata": {},
   "outputs": [],
   "source": [
    "import numpy as np"
   ]
  },
  {
   "cell_type": "markdown",
   "metadata": {},
   "source": [
    "Initializing the weights to random int accoding to layer.<br>\n",
    "We have:<br>\n",
    "`Layer 0` which have `2` input node.<br>\n",
    "`Layer 1` which have `5` node.<br>\n",
    "`Layer 2` which have `2` output node.<br>\n",
    "So dimension of weight matrix is `2*5`,`5*1`.<br> "
   ]
  },
  {
   "cell_type": "code",
   "execution_count": 2,
   "metadata": {},
   "outputs": [],
   "source": [
    "def helper(layers,nodes):\n",
    "    w=[]\n",
    "    b=[]\n",
    "    for i in range(layers-1):\n",
    "        w.append(np.around(np.random.uniform(size=(nodes[i],nodes[i+1])), decimals=2))\n",
    "        b.append(np.around(np.random.uniform(size=(nodes[i+1],1)), decimals=2))\n",
    "    return w,b"
   ]
  },
  {
   "cell_type": "code",
   "execution_count": 9,
   "metadata": {},
   "outputs": [],
   "source": [
    "n_input=2 #no. of input \n",
    "layers=3 #layer0(input) , layer1(hidden), layer3(output)\n",
    "nodes=[2,5,1] #2 input nodes, 5 nodes in hidden layer , singel node in output layer\n",
    "w,b=helper(layers,nodes)"
   ]
  },
  {
   "cell_type": "code",
   "execution_count": 22,
   "metadata": {},
   "outputs": [
    {
     "name": "stdout",
     "output_type": "stream",
     "text": [
      "weights:[array([[0.07, 0.28, 0.02, 0.59, 0.58],\n",
      "       [0.75, 0.88, 0.75, 0.58, 0.54]]), array([[0.6 ],\n",
      "       [0.49],\n",
      "       [0.94],\n",
      "       [0.44],\n",
      "       [0.45]])]\n",
      "biases:[array([[0.49],\n",
      "       [0.63],\n",
      "       [0.81],\n",
      "       [1.  ],\n",
      "       [0.94]]), array([[0.02]])]\n"
     ]
    }
   ],
   "source": [
    "print(f'weights:{w}')\n",
    "print(f\"biases:{b}\")"
   ]
  },
  {
   "cell_type": "code",
   "execution_count": 37,
   "metadata": {},
   "outputs": [],
   "source": [
    "def dense(input,w,b):\n",
    "    z=np.matmul(input,w)+np.transpose(b)\n",
    "    print(z)\n",
    "    return z"
   ]
  },
  {
   "cell_type": "code",
   "execution_count": 44,
   "metadata": {},
   "outputs": [
    {
     "name": "stdout",
     "output_type": "stream",
     "text": [
      "[[4.38 5.59 4.6  5.08 4.8 ]]\n",
      "[[14.1063]]\n",
      "[[14.1063]]\n"
     ]
    }
   ],
   "source": [
    "input=[2,5]\n",
    "z1=dense(input,w[0],b[0])\n",
    "\n",
    "z2=dense(z1,w[1],b[1])\n",
    "print(z2)"
   ]
  },
  {
   "cell_type": "code",
   "execution_count": null,
   "metadata": {},
   "outputs": [],
   "source": [
    "# def gradient_descent(weight,alpha):\n",
    "#     weight=weight-alpha*dj_dw\n",
    "#     biases=biases-alpha*dj_db"
   ]
  }
 ],
 "metadata": {
  "kernelspec": {
   "display_name": "Python 3.9.3 ('env')",
   "language": "python",
   "name": "python3"
  },
  "language_info": {
   "codemirror_mode": {
    "name": "ipython",
    "version": 3
   },
   "file_extension": ".py",
   "mimetype": "text/x-python",
   "name": "python",
   "nbconvert_exporter": "python",
   "pygments_lexer": "ipython3",
   "version": "3.9.3"
  },
  "orig_nbformat": 4,
  "vscode": {
   "interpreter": {
    "hash": "4a2e7ee73770a2f69a36b3f34d1072af0d870facd48692644ab8cdd9c493d8bf"
   }
  }
 },
 "nbformat": 4,
 "nbformat_minor": 2
}
